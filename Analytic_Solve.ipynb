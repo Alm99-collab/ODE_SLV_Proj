{
 "cells": [
  {
   "cell_type": "markdown",
   "source": [
    "**Аналитическое решение начальной задачи Коши:**\n",
    "\n",
    "$$ \\frac{d^{5}y}{dx^{5}} + 15 \\frac{d^{4}y}{dx^{4}} + 90 \\frac{d^{3}y}{dx^{3}} + 270 \\frac{d^{2}y}{dx^{2}} + $$\n",
    "$$ 405 \\frac{dy}{dx} + 243y = 0; \\quad x \\in [0;5] $$\n",
    "\n",
    "$$ y\\bigg|_{x=0} \\! \\! \\! \\! \\! = 0; \\quad \\frac{dy}{dx}\\bigg|_{x=0} \\! \\! \\! \\! \\! = 3; $$\n",
    "$$ \\quad \\frac{d^{2}y}{dx^{2}}\\bigg|_{x=0} \\! \\! \\! \\! \\! = -9; $$\n",
    "$$ \\quad \\frac{d^{3}y}{dx^{3}}\\bigg|_{x=0} \\! \\! \\! \\! \\! = -8; $$\n",
    "$$ \\quad \\frac{d^{4}y}{dx^{4}}\\bigg|_{x=0} \\! \\! \\! \\! \\! = 0.$$\n",
    "\n",
    "\n",
    "Данный скрипт позволяет получить точное аналитическое решение для задачи Коши, представленного ОДУ встроенными\n",
    "средствами библиотеки ```SymPy```, для валидации полученного решения с применением численных схем.\n",
    "\n",
    "**Точное решение** $$ y(x) $$:\n",
    "\n",
    "$$ \\displaystyle y{\\left(x \\right)} = \\frac{e^{- 3 x} \\left(- 129 x^{4} - 16 x^{3} + 54 x^{2} + 36x\\right)}{12} $$\n",
    "\n",
    "*Ниже представлен код решения задачи Коши .ipynb*"
   ],
   "metadata": {
    "collapsed": false
   }
  },
  {
   "cell_type": "code",
   "execution_count": 23,
   "outputs": [],
   "source": [
    "import sympy as sym\n",
    "from sympy.plotting import plot\n",
    "import seaborn as sns\n",
    "sns.set()\n",
    "sns.set_style(\"whitegrid\", {'grid.linestyle': '--'})\n",
    "sym.init_printing(use_latex='mathjax')\n",
    "x = sym.symbols('x')\n",
    "y = sym.Function('y')\n",
    "dy1dx1 = sym.Derivative(y(x),x,1)\n",
    "dy2dx2 = sym.Derivative(y(x),x,2)\n",
    "dy3dx3 = sym.Derivative(y(x),x,3)\n",
    "dy4dx4 = sym.Derivative(y(x),x,4)\n",
    "dy5dx5 = sym.Derivative(y(x),x,5)\n",
    "expr = sym.Eq(dy5dx5 + 15*dy4dx4 + 90*dy3dx3 + 270*dy2dx2 + 405*dy1dx1 + 243*y(x),0)\n",
    "sol = sym.dsolve(expr, y(x), ics={y(0): 0,  y(x).diff(x,1).subs(x, 0): 3,\n",
    "                                  y(x).diff(x,2).subs(x, 0): -9,\n",
    "                                  y(x).diff(x,3).subs(x, 0): -8,\n",
    "                                  y(x).diff(x,4).subs(x, 0): 0,},\n",
    "                 simplify=True)"
   ],
   "metadata": {
    "collapsed": false,
    "pycharm": {
     "name": "#%%\n"
    }
   }
  },
  {
   "cell_type": "markdown",
   "source": [
    "**График аналитического решения:**"
   ],
   "metadata": {
    "collapsed": false
   }
  },
  {
   "cell_type": "code",
   "execution_count": 24,
   "outputs": [
    {
     "data": {
      "text/plain": "<Figure size 432x288 with 1 Axes>",
      "image/png": "[encoded data removed]"
     },
     "metadata": {},
     "output_type": "display_data"
    }
   ],
   "source": [
    "p1 = plot(sol.rhs, show=False, xlim=[0, 5], ylim=[-0.5, 0.5])\n",
    "p1[0].line_color='darkblue'\n",
    "p1.show()"
   ],
   "metadata": {
    "collapsed": false,
    "pycharm": {
     "name": "#%%\n"
    }
   }
  },
  {
   "cell_type": "code",
   "execution_count": 25,
   "outputs": [],
   "source": [
    "# sym.factor(sol)"
   ],
   "metadata": {
    "collapsed": false,
    "pycharm": {
     "name": "#%%\n"
    }
   }
  }
 ],
 "metadata": {
  "kernelspec": {
   "display_name": "Python 3",
   "language": "python",
   "name": "python3"
  },
  "language_info": {
   "codemirror_mode": {
    "name": "ipython",
    "version": 2
   },
   "file_extension": ".py",
   "mimetype": "text/x-python",
   "name": "python",
   "nbconvert_exporter": "python",
   "pygments_lexer": "ipython2",
   "version": "2.7.6"
  }
 },
 "nbformat": 4,
 "nbformat_minor": 0
}